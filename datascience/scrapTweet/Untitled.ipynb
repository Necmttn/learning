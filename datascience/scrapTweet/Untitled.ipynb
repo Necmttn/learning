{
 "cells": [
  {
   "cell_type": "code",
   "execution_count": null,
   "metadata": {
    "collapsed": true
   },
   "outputs": [],
   "source": [
    "print('heelooasd')"
   ]
  },
  {
   "cell_type": "code",
   "execution_count": null,
   "metadata": {
    "collapsed": true
   },
   "outputs": [],
   "source": [
    "import tweepy\n",
    "consumer_key = 'lzodokf42dV4mx8ax1PgIEerV'\n",
    "consumer_secret = 'lYybd1BzQRT2OWHeIQH1SsFVndaw6LsFwbyfI2ImnjHVFsi8VD'\n",
    "\n",
    "access_token =  '153542869-m4NCB30Z4gxRrI5UCisRpdtyqbzLXrLJCFDa3ZQr'\n",
    "access_secret = 'xuwS38e0oBEgfM1LH7gOE27eVbKXG4gH83egJiZ5icAfw'\n",
    "\n",
    "\n",
    "auth = tweepy.OAuthHandler(consumer_key, consumer_secret)\n",
    "\n",
    "auth.set_access_token(access_token, access_secret)\n",
    "\n",
    "api = tweepy.API(auth)\n",
    "\n",
    "# Using the API object to get tweets from my timeine.\n",
    "\n",
    "public_tweets = api.home_timeline()\n",
    "\n",
    "for tweet in public_tweets:\n",
    "    print(tweet.text)\n",
    "\n"
   ]
  }
 ],
 "metadata": {
  "kernelspec": {
   "display_name": "Python 3",
   "language": "python",
   "name": "python3"
  },
  "language_info": {
   "codemirror_mode": {
    "name": "ipython",
    "version": 3
   },
   "file_extension": ".py",
   "mimetype": "text/x-python",
   "name": "python",
   "nbconvert_exporter": "python",
   "pygments_lexer": "ipython3",
   "version": "3.6.1"
  }
 },
 "nbformat": 4,
 "nbformat_minor": 2
}
