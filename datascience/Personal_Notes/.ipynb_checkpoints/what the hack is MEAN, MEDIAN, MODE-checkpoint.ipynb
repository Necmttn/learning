{
 "cells": [
  {
   "cell_type": "markdown",
   "metadata": {},
   "source": [
    "# what the hack is MEAN, MEDIAN, MODE\n",
    "\n",
    "### Mean:\n",
    "let's say we have array of numbers "
   ]
  },
  {
   "cell_type": "code",
   "execution_count": 11,
   "metadata": {},
   "outputs": [
    {
     "name": "stdout",
     "output_type": "stream",
     "text": [
      "sum: 188\n",
      "length: 7\n",
      "mean: 26.857142857142858\n",
      "median: 25.0\n",
      "mode: 23\n"
     ]
    }
   ],
   "source": [
    "import numpy as np\n",
    "awesomeArray = np.array([22,23,23,25,26,27,42])\n",
    "sumOfit = np.sum(awesomeArray)\n",
    "length = len(awesomeArray)\n",
    "mean = np.mean(awesomeArray)\n",
    "median = np.median(awesomeArray)\n",
    "counts = np.bincount(awesomeArray)\n",
    "mode = np.argmax(counts)\n",
    "print(\"sum: {}\".format(sumOfit))\n",
    "print(\"length: {}\".format(length))\n",
    "print(\"mean: {}\".format(mean))\n",
    "print(\"median: {}\".format(median))\n",
    "print(\"mode: {}\".format(mode))\n"
   ]
  },
  {
   "cell_type": "markdown",
   "metadata": {},
   "source": [
    "so basically it's takes sum of the numbers\n",
    "\n",
    "> 22 + 23 + 23 + 25 + 26 + 27 + 42  = 188\n",
    "\n",
    "and divides it too length of the array.\n",
    "\n",
    "> 188 / 7 = 26.8571428571\n"
   ]
  },
  {
   "cell_type": "markdown",
   "metadata": {},
   "source": [
    "### Median\n",
    "similar to mean but with diferent approach.\n",
    "first it's sorts elements in the array"
   ]
  },
  {
   "cell_type": "code",
   "execution_count": 13,
   "metadata": {},
   "outputs": [
    {
     "name": "stdout",
     "output_type": "stream",
     "text": [
      "[22 23 23 25 26 27 42]\n"
     ]
    }
   ],
   "source": [
    "sortedawesomeArray = np.sort(awesomeArray)\n",
    "print(sortedawesomeArray)"
   ]
  },
  {
   "cell_type": "markdown",
   "metadata": {},
   "source": [
    "takes the element in the center\n",
    "in this case our median is *25* \n",
    "if we had even number it's takes 2 number which closer to center. \n",
    "sums them up and divede by 2\n",
    "let say this was our array\n",
    "> [22 23 23 25 26 26 27 42]\n",
    "\n",
    "the number close to center is  25 and 26\n",
    "> (25 + 26) / 2 = 25.5\n",
    "\n",
    "\n"
   ]
  },
  {
   "cell_type": "markdown",
   "metadata": {},
   "source": [
    "### Mode\n",
    "most repeated element in the array.\n"
   ]
  }
 ],
 "metadata": {
  "kernelspec": {
   "display_name": "Python 3",
   "language": "python",
   "name": "python3"
  },
  "language_info": {
   "codemirror_mode": {
    "name": "ipython",
    "version": 3
   },
   "file_extension": ".py",
   "mimetype": "text/x-python",
   "name": "python",
   "nbconvert_exporter": "python",
   "pygments_lexer": "ipython3",
   "version": "3.6.1"
  }
 },
 "nbformat": 4,
 "nbformat_minor": 2
}
