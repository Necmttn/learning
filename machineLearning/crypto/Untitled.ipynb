{
 "cells": [
  {
   "cell_type": "code",
   "execution_count": 1,
   "metadata": {},
   "outputs": [
    {
     "name": "stdout",
     "output_type": "stream",
     "text": [
      "{'date': 1439010600, 'high': 50, 'low': 0.00900005, 'open': 50, 'close': 0.00900005, 'volume': 10.65496054, 'quoteVolume': 1033.26076055, 'weightedAverage': 0.01031197}\n",
      "{'date': 1439010900, 'high': 0.00900002, 'low': 0.009, 'open': 0.00900002, 'close': 0.009, 'volume': 1.54996959, 'quoteVolume': 172.21873945, 'weightedAverage': 0.009}\n",
      "{'date': 1439011200, 'high': 0.00901001, 'low': 0.00901, 'open': 0.00901001, 'close': 0.00901, 'volume': 1.12615562, 'quoteVolume': 124.9895, 'weightedAverage': 0.00901}\n",
      "{'date': 1439011500, 'high': 0.00901002, 'low': 0.005501, 'open': 0.00901002, 'close': 0.005501, 'volume': 20.60093553, 'quoteVolume': 3003, 'weightedAverage': 0.00686011}\n",
      "{'date': 1439011800, 'high': 0.01279996, 'low': 0.005501, 'open': 0.005501, 'close': 0.00929999, 'volume': 2.44737213, 'quoteVolume': 436.71889907, 'weightedAverage': 0.00560399}\n",
      "{'date': 1439012100, 'high': 0.0085, 'low': 0.0055, 'open': 0.007, 'close': 0.0061, 'volume': 7.58092436, 'quoteVolume': 1360.45246948, 'weightedAverage': 0.00557235}\n",
      "{'date': 1439012400, 'high': 0.0071, 'low': 0.0069, 'open': 0.0071, 'close': 0.0069, 'volume': 0.04066015, 'quoteVolume': 5.75703506, 'weightedAverage': 0.00706269}\n",
      "{'date': 1439012700, 'high': 0.0085, 'low': 0.00612, 'open': 0.0063, 'close': 0.00849999, 'volume': 2.10964743, 'quoteVolume': 263.94337214, 'weightedAverage': 0.0079928}\n",
      "{'date': 1439013000, 'high': 0.0085, 'low': 0.008, 'open': 0.008, 'close': 0.0085, 'volume': 0.27961605, 'quoteVolume': 33.60472345, 'weightedAverage': 0.00832073}\n",
      "{'date': 1439013300, 'high': 0.0078, 'low': 0.00553, 'open': 0.0078, 'close': 0.0060005, 'volume': 9.29160533, 'quoteVolume': 1541.75012837, 'weightedAverage': 0.00602666}\n",
      "[1439010600, 1439010900, 1439011200, 1439011500, 1439011800, 1439012100, 1439012400, 1439012700, 1439013000, 1439013300]\n",
      "[50, 0.00900002, 0.00901001, 0.00901002, 0.005501, 0.007, 0.0071, 0.0063, 0.008, 0.0078]\n",
      "[0.00900005, 0.009, 0.00901, 0.005501, 0.00929999, 0.0061, 0.0069, 0.00849999, 0.0085, 0.0060005]\n"
     ]
    }
   ],
   "source": [
    "import json\n",
    "import datetime\n",
    "import matplotlib\n",
    "import matplotlib.pyplot as plt\n",
    "import matplotlib.ticker as ticker\n",
    "\n",
    "allDate = []\n",
    "allOpen = []\n",
    "allClose = []\n",
    "\n",
    "with open('../data/poloniex-BTCETH-5min-candles.json') as json_data:\n",
    "    d = json.load(json_data)\n",
    "    for t in d[:10]:\n",
    "        date = t['date']\n",
    "        \n",
    "        dateFormatted = datetime.datetime.fromtimestamp(int(t['date'])).strftime('%Y-%m-%d %H:%M:%S')\n",
    "        high = t['high']\n",
    "        low = t['low']\n",
    "        openAt = t['open']\n",
    "        closeAt = t['close']\n",
    "        volume = t['volume']\n",
    "        quoteVolume = t['quoteVolume']\n",
    "        weightedAverage = t['weightedAverage']\n",
    "        allDate.append(date)\n",
    "        allOpen.append(openAt)\n",
    "        allClose.append(closeAt)\n",
    "        #stamp = 'date: {} , high: {:>10}, low: {:>10}, open: {:>10}, close: {:>10}, volume: {:>10}'.format(date, high, low, openAt, closeAt, volume)\n",
    "        #print(t)\n",
    "        #print(stamp)\n",
    "        #print(t)"
   ]
  },
  {
   "cell_type": "code",
   "execution_count": null,
   "metadata": {},
   "outputs": [],
   "source": []
  }
 ],
 "metadata": {
  "kernelspec": {
   "display_name": "Python 3",
   "language": "python",
   "name": "python3"
  },
  "language_info": {
   "codemirror_mode": {
    "name": "ipython",
    "version": 3
   },
   "file_extension": ".py",
   "mimetype": "text/x-python",
   "name": "python",
   "nbconvert_exporter": "python",
   "pygments_lexer": "ipython3",
   "version": "3.6.1"
  }
 },
 "nbformat": 4,
 "nbformat_minor": 2
}
